{
 "cells": [
  {
   "cell_type": "markdown",
   "metadata": {},
   "source": [
    "# Section 1: Import Data Sets"
   ]
  },
  {
   "cell_type": "code",
   "execution_count": 1,
   "metadata": {},
   "outputs": [],
   "source": [
    "# import packages\n",
    "import json\n",
    "from collections import Counter\n",
    "import pandas as pd\n",
    "import re\n",
    "import csv\n",
    "import nltk\n",
    "from nltk import word_tokenize\n",
    "from nltk.corpus import stopwords\n",
    "from nltk.stem.porter import PorterStemmer\n",
    "from nltk.stem import WordNetLemmatizer\n",
    "from nltk.sentiment.vader import SentimentIntensityAnalyzer"
   ]
  },
  {
   "cell_type": "code",
   "execution_count": 2,
   "metadata": {},
   "outputs": [
    {
     "ename": "FileNotFoundError",
     "evalue": "[Errno 2] No such file or directory: 'data/twitterdataXbox.json'",
     "output_type": "error",
     "traceback": [
      "\u001b[1;31m---------------------------------------------------------------------------\u001b[0m",
      "\u001b[1;31mFileNotFoundError\u001b[0m                         Traceback (most recent call last)",
      "\u001b[1;32m<ipython-input-2-526bf58e8033>\u001b[0m in \u001b[0;36m<module>\u001b[1;34m\u001b[0m\n\u001b[0;32m      1\u001b[0m \u001b[1;31m# Load XboxOne tweets\u001b[0m\u001b[1;33m\u001b[0m\u001b[1;33m\u001b[0m\u001b[1;33m\u001b[0m\u001b[0m\n\u001b[0;32m      2\u001b[0m \u001b[0mXboxdata\u001b[0m \u001b[1;33m=\u001b[0m \u001b[1;33m[\u001b[0m\u001b[1;33m]\u001b[0m\u001b[1;33m\u001b[0m\u001b[1;33m\u001b[0m\u001b[0m\n\u001b[1;32m----> 3\u001b[1;33m \u001b[1;32mfor\u001b[0m \u001b[0mline\u001b[0m \u001b[1;32min\u001b[0m \u001b[0mopen\u001b[0m\u001b[1;33m(\u001b[0m\u001b[1;34m'data/twitterdataXbox.json'\u001b[0m\u001b[1;33m)\u001b[0m\u001b[1;33m:\u001b[0m\u001b[1;33m\u001b[0m\u001b[1;33m\u001b[0m\u001b[0m\n\u001b[0m\u001b[0;32m      4\u001b[0m     \u001b[1;32mtry\u001b[0m\u001b[1;33m:\u001b[0m\u001b[1;33m\u001b[0m\u001b[1;33m\u001b[0m\u001b[0m\n\u001b[0;32m      5\u001b[0m         \u001b[0mXboxdata\u001b[0m\u001b[1;33m.\u001b[0m\u001b[0mappend\u001b[0m\u001b[1;33m(\u001b[0m\u001b[0mjson\u001b[0m\u001b[1;33m.\u001b[0m\u001b[0mloads\u001b[0m\u001b[1;33m(\u001b[0m\u001b[0mline\u001b[0m\u001b[1;33m)\u001b[0m\u001b[1;33m)\u001b[0m\u001b[1;33m\u001b[0m\u001b[1;33m\u001b[0m\u001b[0m\n",
      "\u001b[1;31mFileNotFoundError\u001b[0m: [Errno 2] No such file or directory: 'data/twitterdataXbox.json'"
     ]
    }
   ],
   "source": [
    "# Load XboxOne tweets\n",
    "Xboxdata = []\n",
    "for line in open('data/twitterdataXbox.json'):\n",
    "    try:\n",
    "        Xboxdata.append(json.loads(line))\n",
    "    except:\n",
    "        pass\n",
    "print(len(Xboxdata))"
   ]
  },
  {
   "cell_type": "code",
   "execution_count": null,
   "metadata": {},
   "outputs": [],
   "source": [
    "# Load PS4 tweets\n",
    "PS4data = []\n",
    "for line in open('data/twitterdataPS4.json'):\n",
    "    try:\n",
    "        PS4data.append(json.loads(line))\n",
    "    except:\n",
    "        pass\n",
    "print(len(PS4data))"
   ]
  },
  {
   "cell_type": "markdown",
   "metadata": {},
   "source": [
    "# Section 2: Text Processing"
   ]
  },
  {
   "cell_type": "code",
   "execution_count": null,
   "metadata": {},
   "outputs": [],
   "source": [
    "# Number of Xbox 1 tweets\n",
    "Xboxtweets = []\n",
    "for T in Xboxdata:\n",
    "    if 'text' in T:\n",
    "        Xboxtweets.append(T)\n",
    "len(Xboxtweets)   "
   ]
  },
  {
   "cell_type": "code",
   "execution_count": null,
   "metadata": {},
   "outputs": [],
   "source": [
    "# Number of PS4 tweets\n",
    "PS4tweets = []\n",
    "for T in PS4data:\n",
    "    if 'text' in T:\n",
    "        PS4tweets.append(T)\n",
    "len(PS4tweets) "
   ]
  },
  {
   "cell_type": "code",
   "execution_count": null,
   "metadata": {},
   "outputs": [],
   "source": [
    "#extract info from tweets\n",
    "Xboxids = [T['id_str'] for T in Xboxtweets]\n",
    "Xboxtimes = [T['created_at'] for T in Xboxtweets]\n",
    "Xboxtexts = [T['text'] for T in Xboxtweets]\n",
    "Xboxscreen_names = [T['user']['screen_name'] for T in Xboxtweets]\n",
    "Xboxfollowers_count = [T['user']['followers_count'] for T in Xboxtweets]\n",
    "Xboxfriends_count = [T['user']['friends_count'] for T in Xboxtweets]\n",
    "Xboxnames = [T['user']['name'] for T in Xboxtweets]\n",
    "Xboxlons = [(T['geo']['coordinates'][1] if T['geo'] else None) for T in Xboxtweets]\n",
    "Xboxplace_names = [(T['place']['full_name'] if T['place'] else None) for T in Xboxtweets]\n",
    "Xboxplace_types = [(T['place']['place_type'] if T['place'] else None) for T in Xboxtweets]\n",
    "Xboxlocation = [status['user']['location'] for status in Xboxtweets if 'user' in status]"
   ]
  },
  {
   "cell_type": "code",
   "execution_count": null,
   "metadata": {},
   "outputs": [],
   "source": [
    "PS4ids = [T['id_str'] for T in PS4tweets]\n",
    "PS4times = [T['created_at'] for T in PS4tweets]\n",
    "PS4texts = [T['text'] for T in PS4tweets]\n",
    "PS4screen_names = [T['user']['screen_name'] for T in PS4tweets]\n",
    "PS4followers_count = [T['user']['followers_count'] for T in PS4tweets]\n",
    "PS4friends_count = [T['user']['friends_count'] for T in PS4tweets]\n",
    "PS4names = [T['user']['name'] for T in PS4tweets]\n",
    "PS4lats = [(T['geo']['coordinates'][0] if T['geo'] else None) for T in PS4tweets]\n",
    "PS4lons = [(T['geo']['coordinates'][1] if T['geo'] else None) for T in PS4tweets]\n",
    "PS4place_names = [(T['place']['full_name'] if T['place'] else None) for T in PS4tweets]\n",
    "PS4place_types = [(T['place']['place_type'] if T['place'] else None) for T in PS4tweets]\n",
    "PS4location = [status['user']['location'] for status in PS4tweets if 'user' in status]"
   ]
  },
  {
   "cell_type": "code",
   "execution_count": null,
   "metadata": {},
   "outputs": [],
   "source": [
    "#Remove urls\n",
    "Xboxtexts_no_urls = []\n",
    "\n",
    "for i in Xboxtexts:\n",
    "    result = re.sub(r\"http\\S+\", \"\", i)\n",
    "    Xboxtexts_no_urls.append(result)\n",
    "\n",
    "Xboxtexts_no_urls[:3]"
   ]
  },
  {
   "cell_type": "code",
   "execution_count": null,
   "metadata": {},
   "outputs": [],
   "source": [
    "# Remove urls\n",
    "PS4texts_no_urls = []\n",
    "\n",
    "for i in PS4texts:\n",
    "    result = re.sub(r\"http\\S+\", \"\", i)\n",
    "    PS4texts_no_urls.append(result)\n",
    "\n",
    "PS4texts_no_urls[:3]"
   ]
  },
  {
   "cell_type": "code",
   "execution_count": null,
   "metadata": {},
   "outputs": [],
   "source": [
    "# Remove Usernames\n",
    "Xboxtexts_no_urls_usernames = []\n",
    "\n",
    "for i in Xboxtexts_no_urls:\n",
    "    result = re.sub(r\"(@[A-Za-z0-9]+)\",\"\", i)\n",
    "    Xboxtexts_no_urls_usernames.append(result)\n",
    "    \n",
    "Xboxtexts_no_urls_usernames[:3]"
   ]
  },
  {
   "cell_type": "code",
   "execution_count": null,
   "metadata": {},
   "outputs": [],
   "source": [
    "# Remove Usernames\n",
    "PS4texts_no_urls_usernames = []\n",
    "\n",
    "for i in PS4texts_no_urls:\n",
    "    result = re.sub(r\"(@[A-Za-z0-9]+)\",\"\", i)\n",
    "    PS4texts_no_urls_usernames.append(result)\n",
    "    \n",
    "PS4texts_no_urls_usernames[:3]"
   ]
  },
  {
   "cell_type": "code",
   "execution_count": null,
   "metadata": {},
   "outputs": [],
   "source": [
    "#Remove Retweets\n",
    "Xboxtexts_no_RT = []\n",
    "\n",
    "for i in Xboxtexts_no_urls_usernames:\n",
    "    result = re.sub(r\"RT : \", \"\", i)\n",
    "    Xboxtexts_no_RT.append(result)\n",
    "\n",
    "Xboxtexts_no_RT[:3]"
   ]
  },
  {
   "cell_type": "code",
   "execution_count": null,
   "metadata": {},
   "outputs": [],
   "source": [
    "#Remove Retweets\n",
    "PS4texts_no_RT = []\n",
    "\n",
    "for i in PS4texts_no_urls_usernames:\n",
    "    result = re.sub(r\"RT : \", \"\", i)\n",
    "    PS4texts_no_RT.append(result)\n",
    "PS4texts_no_RT[:3]"
   ]
  },
  {
   "cell_type": "code",
   "execution_count": null,
   "metadata": {},
   "outputs": [],
   "source": [
    "# Remove \"\\n\" from text\n",
    "Xboxtexts_no_n = []\n",
    "\n",
    "for i in Xboxtexts_no_RT:\n",
    "    result = re.sub(r\"\\n\", \"\", i)\n",
    "    Xboxtexts_no_n.append(result)\n",
    "\n",
    "Xboxtexts_no_n[:3]"
   ]
  },
  {
   "cell_type": "code",
   "execution_count": null,
   "metadata": {},
   "outputs": [],
   "source": [
    "#Remove \"\\n\" from text\n",
    "PS4texts_no_n = []\n",
    "\n",
    "for i in PS4texts_no_RT:\n",
    "    result = re.sub(r\"\\n\", \"\", i)\n",
    "    PS4texts_no_n.append(result)\n",
    "\n",
    "PS4texts_no_n[:3]"
   ]
  },
  {
   "cell_type": "code",
   "execution_count": null,
   "metadata": {},
   "outputs": [],
   "source": [
    "#Split Text\n",
    "Xboxtexts_clean_completely = []\n",
    "\n",
    "for i in Xboxtexts_no_n:\n",
    "    result = ' '.join(re.sub(r\"(@[A-Za-z0-9]+)|([^0-9A-Za-z \\t])|(\\w+:\\/\\/\\S+)\", \"\", i).split())\n",
    "    Xboxtexts_clean_completely.append(result)\n",
    "\n",
    "Xboxtexts_clean_completely[:3]"
   ]
  },
  {
   "cell_type": "code",
   "execution_count": null,
   "metadata": {},
   "outputs": [],
   "source": [
    "#Split Text\n",
    "PS4texts_clean_completely = []\n",
    "\n",
    "for i in PS4texts_no_n:\n",
    "    result = ' '.join(re.sub(r\"(@[A-Za-z0-9]+)|([^0-9A-Za-z \\t])|(\\w+:\\/\\/\\S+)\", \"\", i).split())\n",
    "    PS4texts_clean_completely.append(result)\n",
    "\n",
    "PS4texts_clean_completely[:3]"
   ]
  },
  {
   "cell_type": "markdown",
   "metadata": {},
   "source": [
    "# Section 3: Sentiment Analysis "
   ]
  },
  {
   "cell_type": "markdown",
   "metadata": {},
   "source": [
    "## Put data into DataFrame"
   ]
  },
  {
   "cell_type": "code",
   "execution_count": null,
   "metadata": {},
   "outputs": [],
   "source": [
    "#Put PS4 data into DataFrame\n",
    "dfP = pd.DataFrame(PS4texts_clean_completely)"
   ]
  },
  {
   "cell_type": "code",
   "execution_count": null,
   "metadata": {},
   "outputs": [],
   "source": [
    "#Put XboxOne data into DataFrame\n",
    "dfX = pd.DataFrame(Xboxtexts_clean_completely)"
   ]
  },
  {
   "cell_type": "markdown",
   "metadata": {},
   "source": [
    "## Vader Sentiment"
   ]
  },
  {
   "cell_type": "code",
   "execution_count": null,
   "metadata": {},
   "outputs": [],
   "source": [
    "#Define VaderSentiment\n",
    "from nltk.sentiment.vader import SentimentIntensityAnalyzer\n",
    "vs = SentimentIntensityAnalyzer()"
   ]
  },
  {
   "cell_type": "code",
   "execution_count": null,
   "metadata": {},
   "outputs": [],
   "source": [
    "#Get vader sentiment score for XboxOne Tweets\n",
    "dfX['score'] = dfX[0].apply(lambda x: vs.polarity_scores(x)['compound'])\n",
    "dfX.head()"
   ]
  },
  {
   "cell_type": "code",
   "execution_count": null,
   "metadata": {},
   "outputs": [],
   "source": [
    "#Get vaderSentiment score for PS4 tweets\n",
    "dfP['score'] = dfP[0].apply(lambda x: vs.polarity_scores(x)['compound'])\n",
    "dfP.head()"
   ]
  },
  {
   "cell_type": "code",
   "execution_count": null,
   "metadata": {},
   "outputs": [],
   "source": [
    "#Define each type of review\n",
    "positive_reviewXbox = []\n",
    "negative_reviewXbox = []\n",
    "neutral_reviewXbox = []\n",
    "\n",
    "for i in dfX['score']:\n",
    "    if i > 0:\n",
    "        positive_reviewXbox.append(i)\n",
    "    elif i == 0:\n",
    "        neutral_reviewXbox.append(i)\n",
    "    else:\n",
    "        negative_reviewXbox.append(i)"
   ]
  },
  {
   "cell_type": "code",
   "execution_count": null,
   "metadata": {},
   "outputs": [],
   "source": [
    "#Find number of pos.,neg., neutral reviews for Xbox tweets\n",
    "print(len(positive_reviewXbox))\n",
    "print(len(negative_reviewXbox))\n",
    "print(len(neutral_reviewXbox))"
   ]
  },
  {
   "cell_type": "code",
   "execution_count": null,
   "metadata": {},
   "outputs": [],
   "source": [
    "#Define each type of review\n",
    "positive_reviewPS4 = []\n",
    "negative_reviewPS4 = []\n",
    "neutral_reviewPS4 = []\n",
    "\n",
    "for i in dfP['score']:\n",
    "    if i > 0:\n",
    "        positive_reviewPS4.append(i)\n",
    "    elif i == 0:\n",
    "        neutral_reviewPS4.append(i)\n",
    "    else:\n",
    "        negative_reviewPS4.append(i)"
   ]
  },
  {
   "cell_type": "code",
   "execution_count": null,
   "metadata": {},
   "outputs": [],
   "source": [
    "#Find number of pos, neg, neutral reviews for PS4\n",
    "print(len(positive_reviewPS4))\n",
    "print(len(negative_reviewPS4))\n",
    "print(len(neutral_reviewPS4))"
   ]
  },
  {
   "cell_type": "markdown",
   "metadata": {},
   "source": [
    "# Section 4: Descriptive Analytics"
   ]
  },
  {
   "cell_type": "code",
   "execution_count": null,
   "metadata": {},
   "outputs": [],
   "source": [
    "#Tokenize Xbox data\n",
    "tokens = str(dfX)\n",
    "tokens = tokens.lower()\n",
    "tokens = tokens.split()\n",
    "tokens = re.sub(\"[^a-zA-Z0-9]\", \" \", str(tokens))\n",
    "tokens = word_tokenize(tokens)\n",
    "tokens = (word for word in tokens if word not in stopwords.words('english'))"
   ]
  },
  {
   "cell_type": "code",
   "execution_count": null,
   "metadata": {},
   "outputs": [],
   "source": [
    "#Frequency Distribution of Xbox Data\n",
    "fdist = nltk.FreqDist(tokens)\n",
    "fdist"
   ]
  },
  {
   "cell_type": "code",
   "execution_count": null,
   "metadata": {},
   "outputs": [],
   "source": [
    "#Tokenize PS4 data\n",
    "tokensp = str(dfP)\n",
    "tokensp = tokensp.lower()\n",
    "tokensp = tokensp.split()\n",
    "tokensp = re.sub(\"[^a-zA-Z0-9]\", \" \", str(tokensp))\n",
    "tokensp = word_tokenize(tokensp)\n",
    "tokensp = (word for word in tokensp if word not in stopwords.words('english'))"
   ]
  },
  {
   "cell_type": "code",
   "execution_count": null,
   "metadata": {},
   "outputs": [],
   "source": [
    "#Frequency Distribution of PS4 Data\n",
    "fdistp = nltk.FreqDist(tokensp)\n",
    "fdistp"
   ]
  },
  {
   "cell_type": "code",
   "execution_count": null,
   "metadata": {},
   "outputs": [],
   "source": [
    "#Word Cloud PS4 tweets\n",
    "from os import path\n",
    "from PIL import Image\n",
    "import numpy as np\n",
    "import matplotlib.pyplot as plt\n",
    "from wordcloud import WordCloud, STOPWORDS\n",
    "from nltk.corpus import stopwords\n",
    "\n",
    "# Read the whole text.\n",
    "text = str(dfP)\n",
    "\n",
    "stopwords = set(STOPWORDS)\n",
    "auto_mask = np.array(Image.open(\"data/Ps4.jpg\"))\n",
    "\n",
    "wc = WordCloud(background_color=\"black\", max_words=2000, mask=auto_mask,\n",
    "               stopwords=stopwords)\n",
    "# generate word cloud\n",
    "wc.generate(text)\n",
    "\n",
    "# show\n",
    "plt.figure(figsize=(15,15))\n",
    "plt.imshow(wc)\n",
    "plt.axis(\"off\")\n",
    "\n",
    "plt.figure()\n",
    "plt.imshow(auto_mask, cmap=plt.cm.gray)\n",
    "plt.axis(\"off\")\n",
    "plt.savefig(\"data/Auto.png\")\n",
    "plt.savefig(\"data/Auto.pdf\")"
   ]
  },
  {
   "cell_type": "code",
   "execution_count": null,
   "metadata": {},
   "outputs": [],
   "source": [
    "#Word Cloud Xbox tweets\n",
    "text = str(dfX)\n",
    "\n",
    "stopwords = set(STOPWORDS)\n",
    "auto_mask = np.array(Image.open(\"data/Xbox1.jpg\"))\n",
    "\n",
    "wc = WordCloud(background_color=\"black\", max_words=2000, mask=auto_mask,\n",
    "               stopwords=stopwords)\n",
    "# generate word cloud\n",
    "wc.generate(text)\n",
    "\n",
    "# show\n",
    "plt.figure(figsize=(15,15))\n",
    "plt.imshow(wc)\n",
    "plt.axis(\"off\")\n",
    "\n",
    "plt.figure()\n",
    "plt.imshow(auto_mask, cmap=plt.cm.gray)\n",
    "plt.axis(\"off\")\n",
    "plt.savefig(\"data/Auto.png\")\n",
    "plt.savefig(\"data/Auto.pdf\")"
   ]
  },
  {
   "cell_type": "markdown",
   "metadata": {},
   "source": [
    "# Section 5: Webcrawling for data to Answer Questions"
   ]
  },
  {
   "cell_type": "code",
   "execution_count": null,
   "metadata": {},
   "outputs": [],
   "source": [
    "# WebCrawl website for total sales of each game system\n",
    "\n",
    "# import python packages\n",
    "import requests\n",
    "from lxml import html\n",
    "import csv\n",
    "import pandas as pd\n",
    "\n",
    "r = requests.get('http://www.vgchartz.com/analysis/platform_totals/')\n",
    "data = html.fromstring(r.text)\n",
    "\n",
    "# Xpath\n",
    "alldata =[]\n",
    "\n",
    "for i in data.xpath(\"//tbody/tr\")[:15]:\n",
    "    total_sold = i.xpath('td[7]/center/text()')  \n",
    "    North_America = i.xpath('td[3]/center/text()')  \n",
    "    platform = i.xpath('td[2]/a/text()')\n",
    "    print(platform, total_sold, North_America)\n",
    "    alldata.append([platform, total_sold, North_America])"
   ]
  },
  {
   "cell_type": "code",
   "execution_count": null,
   "metadata": {
    "scrolled": true
   },
   "outputs": [],
   "source": [
    "#Load data into a DataFrame\n",
    "dfS = pd.DataFrame(alldata)\n",
    "dfS.head()"
   ]
  },
  {
   "cell_type": "code",
   "execution_count": null,
   "metadata": {},
   "outputs": [],
   "source": [
    "#Remove Brackets\n",
    "dfS[0]=dfS[0].str[0]\n",
    "dfS[1]=dfS[1].str[0]\n",
    "dfS[2]=dfS[2].str[0]\n",
    "dfS.head(5)"
   ]
  },
  {
   "cell_type": "code",
   "execution_count": null,
   "metadata": {},
   "outputs": [],
   "source": [
    "#Rename Columns\n",
    "dfS = dfS.rename(columns = {0: 'Platform', 1: 'Worldwide sales (in millions)', 2: 'North America sales (in millions)'})\n",
    "dfS.head(5)"
   ]
  },
  {
   "cell_type": "code",
   "execution_count": null,
   "metadata": {},
   "outputs": [],
   "source": [
    "#Locate just XboxOne and PS4 data\n",
    "cloud = dfS.Platform.str.contains(\"PlayStation 4|Xbox One\")\n",
    "dfS[cloud]"
   ]
  },
  {
   "cell_type": "code",
   "execution_count": null,
   "metadata": {},
   "outputs": [],
   "source": [
    "#Create Positive Twitter Reviews column\n",
    "dfS['positive Twitter reviews'] = 0\n",
    "dfS[cloud]"
   ]
  },
  {
   "cell_type": "code",
   "execution_count": null,
   "metadata": {},
   "outputs": [],
   "source": [
    "#Use iloc to bring number of positive twitter reviews into dataframe\n",
    "dfS.iloc[5, dfS.columns.get_loc('positive Twitter reviews')] = len(positive_reviewPS4)\n",
    "dfS.iloc[13, dfS.columns.get_loc('positive Twitter reviews')] = len(positive_reviewXbox)\n",
    "dfS[cloud]"
   ]
  },
  {
   "cell_type": "code",
   "execution_count": null,
   "metadata": {},
   "outputs": [],
   "source": [
    "#Create Negative Twitter reviews column\n",
    "dfS['negative Twitter reviews'] = 0\n",
    "dfS[cloud]"
   ]
  },
  {
   "cell_type": "code",
   "execution_count": null,
   "metadata": {},
   "outputs": [],
   "source": [
    "#Use iloc to bring number of Negative twitter reviews into DataFrame\n",
    "dfS.iloc[5, dfS.columns.get_loc('negative Twitter reviews')] = len(negative_reviewPS4)\n",
    "dfS.iloc[13, dfS.columns.get_loc('negative Twitter reviews')] = len(negative_reviewXbox)\n",
    "dfS[cloud]"
   ]
  },
  {
   "cell_type": "code",
   "execution_count": null,
   "metadata": {},
   "outputs": [],
   "source": [
    "#Create neutral twitter reviews column\n",
    "dfS['neutral Twitter reviews'] = 0\n",
    "dfS[cloud]"
   ]
  },
  {
   "cell_type": "code",
   "execution_count": null,
   "metadata": {},
   "outputs": [],
   "source": [
    "#Use iloc to bring number of neutral twitter reviews into DataFrame\n",
    "dfS.iloc[5, dfS.columns.get_loc('neutral Twitter reviews')] = len(neutral_reviewPS4)\n",
    "dfS.iloc[13, dfS.columns.get_loc('neutral Twitter reviews')] = len(neutral_reviewXbox)\n",
    "dfS[cloud]"
   ]
  },
  {
   "cell_type": "code",
   "execution_count": null,
   "metadata": {},
   "outputs": [],
   "source": [
    "#Webcrawl for Engadget PS4 rating\n",
    "\n",
    "rpe = requests.get('https://www.engadget.com/products/sony/playstation/4/')\n",
    "datape = html.fromstring(rpe.text)\n",
    "\n",
    "alldatape = []\n",
    "\n",
    "for i in datape.xpath(\"//div[@class='table-cell-bottom ta-r']\"):\n",
    "    rating = i.xpath(\"div[@class='t-list-header-2 th-title']/text()\")\n",
    "    print(rating)\n",
    "    alldatape.append([rating])\n",
    "    \n",
    "len(alldatape)"
   ]
  },
  {
   "cell_type": "code",
   "execution_count": null,
   "metadata": {},
   "outputs": [],
   "source": [
    "#Webcrawl for Engadget XboxOne rating\n",
    "\n",
    "rxe = requests.get('https://www.engadget.com/products/microsoft/xbox/one/')\n",
    "dataxe = html.fromstring(rxe.text)\n",
    "\n",
    "alldataxe = []\n",
    "\n",
    "for i in dataxe.xpath(\"//div[@class='table-cell-bottom ta-r']\"):\n",
    "    rating = i.xpath(\"div[@class='t-list-header-2 th-title']/text()\")\n",
    "    print(rating)\n",
    "    alldataxe.append([rating])\n",
    "    \n",
    "len(alldataxe)"
   ]
  },
  {
   "cell_type": "code",
   "execution_count": null,
   "metadata": {},
   "outputs": [],
   "source": [
    "#Load PS4 data into a DataFrame\n",
    "dfpe = pd.DataFrame(alldatape)\n",
    "dfpe.head()"
   ]
  },
  {
   "cell_type": "code",
   "execution_count": null,
   "metadata": {},
   "outputs": [],
   "source": [
    "#Load Xbox One data into a DataFrame\n",
    "dfxe = pd.DataFrame(alldataxe)\n",
    "dfxe.head()"
   ]
  },
  {
   "cell_type": "code",
   "execution_count": null,
   "metadata": {},
   "outputs": [],
   "source": [
    "#Remove Brackets\n",
    "dfpe[0]=dfpe[0].str[0]\n",
    "dfpe"
   ]
  },
  {
   "cell_type": "code",
   "execution_count": null,
   "metadata": {},
   "outputs": [],
   "source": [
    "#Remove Brackets\n",
    "dfxe[0]=dfxe[0].str[0]\n",
    "dfxe"
   ]
  },
  {
   "cell_type": "code",
   "execution_count": null,
   "metadata": {},
   "outputs": [],
   "source": [
    "#Remove \\n from data\n",
    "dfpe = dfpe.replace('\\n','', regex=True)\n",
    "dfpe"
   ]
  },
  {
   "cell_type": "code",
   "execution_count": null,
   "metadata": {
    "scrolled": true
   },
   "outputs": [],
   "source": [
    "#Remove \\n from data\n",
    "dfxe = dfxe.replace('\\n','', regex=True)\n",
    "dfxe"
   ]
  },
  {
   "cell_type": "code",
   "execution_count": null,
   "metadata": {},
   "outputs": [],
   "source": [
    "#Drop unwanted rows from PS4 dataframe\n",
    "dfpe.drop(dfpe.index[[1,2,3]], inplace=True)\n",
    "dfpe"
   ]
  },
  {
   "cell_type": "code",
   "execution_count": null,
   "metadata": {},
   "outputs": [],
   "source": [
    "#Make second row in Xbox dataframe equal PS4 rating\n",
    "dfxe.iloc[1] = dfpe.iloc[0]\n",
    "dfxe"
   ]
  },
  {
   "cell_type": "code",
   "execution_count": null,
   "metadata": {},
   "outputs": [],
   "source": [
    "#Remove unwanted rows from data\n",
    "dfxe.drop(dfxe.index[[2,3]], inplace=True)\n",
    "dfxe"
   ]
  },
  {
   "cell_type": "code",
   "execution_count": null,
   "metadata": {},
   "outputs": [],
   "source": [
    "#Rename Column\n",
    "dfxe = dfxe.rename(columns = {0: 'Engadget Rating'})\n",
    "dfxe"
   ]
  },
  {
   "cell_type": "code",
   "execution_count": null,
   "metadata": {},
   "outputs": [],
   "source": [
    "#Load Engadget Ratings into our Main DataFrame\n",
    "dfS['Engadget Rating'] = dfxe['Engadget Rating']\n",
    "dfS.head(3)"
   ]
  },
  {
   "cell_type": "code",
   "execution_count": null,
   "metadata": {},
   "outputs": [],
   "source": [
    "#Use iloc to have PS4 and XboxOne equal their respective Engadget Ratings\n",
    "dfS.iloc[5, dfS.columns.get_loc('Engadget Rating')] = dfS.iloc[1, dfS.columns.get_loc('Engadget Rating')]\n",
    "dfS.iloc[13, dfS.columns.get_loc('Engadget Rating')] = dfS.iloc[0, dfS.columns.get_loc('Engadget Rating')]\n",
    "dfS[cloud]"
   ]
  },
  {
   "cell_type": "code",
   "execution_count": null,
   "metadata": {},
   "outputs": [],
   "source": [
    "#Webcrawl for CNet PS4 rating\n",
    "\n",
    "rcp = requests.get('https://www.cnet.com/reviews/sony-playstation-4-review/')\n",
    "datacp = html.fromstring(rcp.text)\n",
    "\n",
    "alldatacp = []\n",
    "\n",
    "for i in datacp.xpath(\"//div[@class='col-1 overall']\"):\n",
    "    rating = i.xpath('div/span/text()')\n",
    "    print(rating)\n",
    "    alldatacp.append([rating])"
   ]
  },
  {
   "cell_type": "code",
   "execution_count": null,
   "metadata": {},
   "outputs": [],
   "source": [
    "#Webcrawl for CNet XboxOne rating\n",
    "\n",
    "rcx = requests.get('https://www.cnet.com/reviews/microsoft-xbox-one-review/')\n",
    "datacx = html.fromstring(rcx.text)\n",
    "\n",
    "alldatacx = []\n",
    "\n",
    "for i in datacx.xpath(\"//div[@class='col-1 overall']\"):\n",
    "    rating = i.xpath('div/span/text()')\n",
    "    print(rating)\n",
    "    alldatacx.append([rating])"
   ]
  },
  {
   "cell_type": "code",
   "execution_count": null,
   "metadata": {
    "scrolled": true
   },
   "outputs": [],
   "source": [
    "#Create a CNet Rating column in our Main DataFrame\n",
    "dfS['CNet Rating'] = 0\n",
    "dfS[cloud]"
   ]
  },
  {
   "cell_type": "code",
   "execution_count": null,
   "metadata": {},
   "outputs": [],
   "source": [
    "#Use iloc to bring CNet ratings into our main DataFrame\n",
    "dfS.iloc[5, dfS.columns.get_loc('CNet Rating')] = alldatacp\n",
    "dfS.iloc[13, dfS.columns.get_loc('CNet Rating')] = alldatacx\n",
    "dfS[cloud]"
   ]
  },
  {
   "cell_type": "code",
   "execution_count": null,
   "metadata": {},
   "outputs": [],
   "source": [
    "#Remove brackets from CNet ratings column\n",
    "dfS['CNet Rating']=dfS['CNet Rating'].str[0]\n",
    "dfS[cloud]"
   ]
  },
  {
   "cell_type": "code",
   "execution_count": null,
   "metadata": {},
   "outputs": [],
   "source": []
  },
  {
   "cell_type": "code",
   "execution_count": null,
   "metadata": {},
   "outputs": [],
   "source": []
  }
 ],
 "metadata": {
  "kernelspec": {
   "display_name": "Python 3",
   "language": "python",
   "name": "python3"
  },
  "language_info": {
   "codemirror_mode": {
    "name": "ipython",
    "version": 3
   },
   "file_extension": ".py",
   "mimetype": "text/x-python",
   "name": "python",
   "nbconvert_exporter": "python",
   "pygments_lexer": "ipython3",
   "version": "3.7.1"
  }
 },
 "nbformat": 4,
 "nbformat_minor": 2
}
